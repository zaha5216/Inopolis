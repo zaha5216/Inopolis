{
 "cells": [
  {
   "cell_type": "code",
   "execution_count": 117,
   "metadata": {},
   "outputs": [],
   "source": [
    "a = 25000\n",
    "d = 0\n",
    "i = 0.1\n",
    "t = 2\n",
    "p = (a-v)*(b*e)"
   ]
  },
  {
   "cell_type": "code",
   "execution_count": 118,
   "metadata": {},
   "outputs": [],
   "source": [
    "eg = (p+a)/(t*12)\n",
    "obs = eg*(t*12)\n",
    "ej = (obs-d)/(t*12)"
   ]
  },
  {
   "cell_type": "code",
   "execution_count": 121,
   "metadata": {},
   "outputs": [
    {
     "data": {
      "text/plain": [
       "(1250.0, 30000.0, 5000.0)"
      ]
     },
     "execution_count": 121,
     "metadata": {},
     "output_type": "execute_result"
    }
   ],
   "source": [
    "ej,obs,p"
   ]
  },
  {
   "cell_type": "code",
   "execution_count": 122,
   "metadata": {},
   "outputs": [],
   "source": [
    "\n",
    "def r():\n",
    "        amount = float(input(\"Введите сумму которую хотите взять: \"))\n",
    "        downpayment = float(input(\"Введите сумму первоночальноговзноса: \"))\n",
    "        interest = float(input(\"Процентная ставка:\"))\n",
    "        interest1 = interest/100\n",
    "        term = float(input(\"Срок займа(лет): \"))\n",
    "        command = input(\"Введите расчитать: \")\n",
    "        pereplat = (amount-downpayment)*(interest1*term)\n",
    "        #    Ежемесечный платёж без учёта первоначального взноса\n",
    "        ej_plat = (pereplat+amount)/(term*12)\n",
    "        #    Общая сумма с переплатой процентов\n",
    "        obsh_sum = ej_plat*(term*12)\n",
    "        #    Ежемесечный платёж c учётом первоначального взноса\n",
    "        real_plat = (obsh_sum-downpayment)/(term*12)\n",
    "        if command == \"Расчитать\":\n",
    "            print(\"Ежемесячный платёж: \", real_plat)\n",
    "            print(\"Общую сумма выплаты: \", obsh_sum)\n",
    "            print(\"Общий объём начисленных процентов: \", pereplat)\n",
    "        else:\n",
    "            print(\"Неверная команда!\")    \n",
    "    \n",
    "            \n",
    "\n",
    "\n",
    "            \n"
   ]
  },
  {
   "cell_type": "code",
   "execution_count": 123,
   "metadata": {},
   "outputs": [
    {
     "name": "stdout",
     "output_type": "stream",
     "text": [
      "Введите сумму которую хотите взять: 200000\n",
      "Введите сумму первоночальноговзноса: 2000\n",
      "Процентная ставка:20\n",
      "Срок займа(лет): 2\n",
      "Введите расчитать: \n",
      "Неверная команда!\n"
     ]
    }
   ],
   "source": [
    "r()"
   ]
  },
  {
   "cell_type": "code",
   "execution_count": 116,
   "metadata": {},
   "outputs": [
    {
     "name": "stdout",
     "output_type": "stream",
     "text": [
      "amount: 20000\n",
      "downpayment: 2000\n",
      "interest:15\n",
      "term: 5\n",
      "Если всё верно ввидите 'Да': Да\n",
      "Ежемесячный платёж:  525.0\n",
      "Общую сумма выплаты:  33500.0\n",
      "Общий объём начисленных процентов:  13500.0\n"
     ]
    }
   ],
   "source": [
    "g()"
   ]
  },
  {
   "cell_type": "code",
   "execution_count": null,
   "metadata": {},
   "outputs": [],
   "source": [
    "def g():\n",
    "        amount = float(input(\"amount: \"))\n",
    "        downpayment = float(input(\"downpayment: \"))\n",
    "        interest = float(input(\"interest:\"))\n",
    "        interest1 = interest/100\n",
    "        term = float(input(\"term: \"))\n",
    "        command = input(\"Если всё верно ввидите 'Да': \")\n",
    "        pereplat = (amount-downpayment)*(interest1*term)\n",
    "        #    Ежемесечный платёж без учёта первоначального взноса\n",
    "        ej_plat = (pereplat+amount)/(term*12)\n",
    "        #    Общая сумма с переплатой процентов\n",
    "        obsh_sum = ej_plat*(term*12)\n",
    "        #    Ежемесечный платёж c учётом первоначального взноса\n",
    "        real_plat = (obsh_sum-downpayment)/(term*12)\n",
    "        if command == \"Да\":\n",
    "            print(\"Ежемесячный платёж: \", real_plat)\n",
    "            print(\"Общую сумма выплаты: \", obsh_sum)\n",
    "            print(\"Общий объём начисленных процентов: \", pereplat)\n",
    "        else:\n",
    "            print(\"Неверная команда!\") "
   ]
  }
 ],
 "metadata": {
  "kernelspec": {
   "display_name": "Python 3",
   "language": "python",
   "name": "python3"
  },
  "language_info": {
   "codemirror_mode": {
    "name": "ipython",
    "version": 3
   },
   "file_extension": ".py",
   "mimetype": "text/x-python",
   "name": "python",
   "nbconvert_exporter": "python",
   "pygments_lexer": "ipython3",
   "version": "3.7.0"
  }
 },
 "nbformat": 4,
 "nbformat_minor": 2
}
